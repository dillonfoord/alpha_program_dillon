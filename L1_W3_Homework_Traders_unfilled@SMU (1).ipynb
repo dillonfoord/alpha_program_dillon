{
 "cells": [
  {
   "cell_type": "markdown",
   "id": "d6b3e273-5467-4102-856e-c0bc4739deb6",
   "metadata": {},
   "source": [
    "# Traders@SMU L1 Week 3 Economic Analysis with Python Libraries for Assets Data Presentation Mini Project - Created by Julian Cabrera "
   ]
  },
  {
   "cell_type": "markdown",
   "id": "fb6be443-ebba-49f8-8651-d960a2c64fef",
   "metadata": {},
   "source": [
    "## Your Goal for this Mini Project Assigment is to analyze Economic Events from the Dow Jones Industrial Average(DJIA) and Sectors of the S&P500 ETF.\n",
    "\n",
    "## You will gather and manupulate Data/Prices using **yfinance, pandas, numpy, & matplotlib.** \n",
    "\n",
    "## Then you will make Economic conclusions and insights on the data. "
   ]
  },
  {
   "cell_type": "markdown",
   "id": "8d851563-ce81-4bca-a854-644e821a3da4",
   "metadata": {},
   "source": [
    "### **Refer to the Week 3 Asset Class Lecture Notebook as Guide for help & troubelshooting**"
   ]
  },
  {
   "cell_type": "markdown",
   "id": "6c1a9db3-a2bc-49d9-8ca8-ef6264cb5b4e",
   "metadata": {},
   "source": [
    "## Part 1 : Analyzing the DJIA as an Economic Indicator "
   ]
  },
  {
   "cell_type": "markdown",
   "id": "90376da8-01a9-4478-9458-8b19b412c480",
   "metadata": {},
   "source": [
    "### Step 1 - Import all Necessary Libraries & run cell: yfinance, numpy, pandas, matplotlib.pyplot. **Use alias**"
   ]
  },
  {
   "cell_type": "code",
   "execution_count": 3,
   "id": "ceb96b39-e98e-4306-adc4-d7c0a8397b43",
   "metadata": {},
   "outputs": [],
   "source": [
    "# Import here\n",
    "import numpy as np\n",
    "import yfinance as yf\n",
    "import pandas as pd\n",
    "import matplotlib.pyplot as mp\n"
   ]
  },
  {
   "cell_type": "markdown",
   "id": "b57de3c4-89b1-4197-83e8-6c48973e5568",
   "metadata": {},
   "source": [
    "### Step 2 - Extract DJIA data from your the yfinance libary and set into into a dataframe(df) "
   ]
  },
  {
   "cell_type": "code",
   "execution_count": 4,
   "id": "89b1594a-26bd-4a75-9638-8906fa9f8324",
   "metadata": {},
   "outputs": [
    {
     "name": "stdout",
     "output_type": "stream",
     "text": [
      "                                   Open          High           Low  \\\n",
      "Date                                                                  \n",
      "2024-03-25 00:00:00-04:00  39410.539062  39430.171875  39296.031250   \n",
      "2024-03-26 00:00:00-04:00  39338.320312  39439.441406  39277.191406   \n",
      "2024-03-27 00:00:00-04:00  39461.980469  39769.410156  39461.980469   \n",
      "2024-03-28 00:00:00-04:00  39763.738281  39868.589844  39717.250000   \n",
      "2024-04-01 00:00:00-04:00  39807.929688  39815.000000  39491.218750   \n",
      "\n",
      "                                  Close     Volume  Dividends  Stock Splits  \n",
      "Date                                                                         \n",
      "2024-03-25 00:00:00-04:00  39313.640625  323670000        0.0           0.0  \n",
      "2024-03-26 00:00:00-04:00  39282.328125  306940000        0.0           0.0  \n",
      "2024-03-27 00:00:00-04:00  39760.078125  332190000        0.0           0.0  \n",
      "2024-03-28 00:00:00-04:00  39807.371094  360970000        0.0           0.0  \n",
      "2024-04-01 00:00:00-04:00  39566.851562  269470000        0.0           0.0  \n"
     ]
    }
   ],
   "source": [
    "# Complete Step 1 Here\n",
    "djia = yf.Ticker(\"^DJI\")\n",
    "df = djia.history(period=\"1y\")\n",
    "print(df.head())\n"
   ]
  },
  {
   "cell_type": "markdown",
   "id": "b4f3cf0f-c21b-4013-8c98-47abfe03c85f",
   "metadata": {},
   "source": [
    "### Step 3 - Now create a dataframe to just show DJIA Closing Prices \n"
   ]
  },
  {
   "cell_type": "code",
   "execution_count": 3,
   "id": "79091a25-c1dd-414e-81a0-b748ca520283",
   "metadata": {},
   "outputs": [],
   "source": [
    "# Only Show Closing Prices \n",
    "df_close = df[['Close']]\n"
   ]
  },
  {
   "cell_type": "markdown",
   "id": "0a24e977-5c00-483c-aabe-e8f5fa708bbc",
   "metadata": {},
   "source": [
    "### Step 4 - Show the first 5 trading days of the DJIA Dataframe to validate Dataframe"
   ]
  },
  {
   "cell_type": "code",
   "execution_count": 4,
   "id": "f6012412-c640-4bb1-a128-4cbed7cf6598",
   "metadata": {},
   "outputs": [],
   "source": [
    "# Use the head method \n",
    "print(df_close.head())\n",
    "\n"
   ]
  },
  {
   "cell_type": "markdown",
   "id": "3a154189-0978-43ca-bca4-9e0ed329f0a1",
   "metadata": {},
   "source": [
    "### Step 5 - Using Matplotlib.pyploy, plot a Line Plot of Historical Closing Prices of the DJIA Dataframe \n",
    "\n",
    "#### Include a title, xlabel, & ylabel"
   ]
  },
  {
   "cell_type": "code",
   "execution_count": 5,
   "id": "1b1748ea-70ec-484c-9924-137e3dde88f9",
   "metadata": {},
   "outputs": [],
   "source": [
    "# Plot a Line Plot of Historical Prices of the DJIA Dataframe \n",
    "plt.figure(figsize=(10,5))\n",
    "plt.plot(df_close, label='DJIA Closing Prices', color='blue')\n",
    "plt.title(\"DJIA Historical Closing Prices\")\n",
    "plt.xlabel(\"Date\")\n",
    "plt.ylabel(\"Closing Price (USD)\")\n",
    "plt.legend()\n",
    "plt.show()\n"
   ]
  },
  {
   "cell_type": "markdown",
   "id": "15d0d943-5640-452a-b9ff-0bd8d4af4dac",
   "metadata": {},
   "source": [
    "### Step 6 - Compute Daily Returns/Changes of DJIA \n",
    "\n",
    "#### 1. Use the .values & .flatten() methods to initialize and manipulate numpy array\n",
    "\n",
    "#### 2. Use the daily returns formula to calculate changes \n",
    "\n",
    "#### 3. Print daily returns"
   ]
  },
  {
   "cell_type": "code",
   "execution_count": 6,
   "id": "02a51f06-81cd-4399-857c-d06a534749f8",
   "metadata": {},
   "outputs": [],
   "source": [
    "# Compute Daily Returns here \n",
    "daily_returns = np.diff(df_close['Close'].values) / df_close['Close'].values[:-1]\n",
    "print(daily_returns[:5])\n",
    "\n",
    "daily_returns = daily_returns * 100\n"
   ]
  },
  {
   "cell_type": "markdown",
   "id": "3e52f261-ed79-450f-9982-f49890992efd",
   "metadata": {},
   "source": [
    "### Step 7 - Create an New Dataframe with Closing Prices, 50 Day rolling Moving Average of Prices , & 200 Day rolling Moving Average of Prices\n",
    "\n",
    "#### First, multiply the Daily Returns Array by 100 to get in percent form\n",
    "\n",
    "#### Second, initialize a New Dataframe using the Daily Returns Array & the pdf.DataFrame method \n",
    "\n",
    "#### Third, add in columns in the New Dataframe that represent 50 Day rolling Moving Average, & 200 Day rolling Moving Average using the .rolling, .mean() & the .shift(1) methods.\n",
    "\n",
    "#### &nbsp;&nbsp;&nbsp;&nbsp;      **Hint for Rolling Moving Average Initialization is shown in cell below.**\n"
   ]
  },
  {
   "cell_type": "code",
   "execution_count": 7,
   "id": "d0a85434-6175-4b16-a7b4-629d26df0218",
   "metadata": {},
   "outputs": [],
   "source": [
    "# df['x Day MA'] = df['Close'].rolling(window= #_days).mean().shift(1)"
   ]
  },
  {
   "cell_type": "code",
   "execution_count": 8,
   "id": "b84b6035-193a-4686-9e51-054175c9e502",
   "metadata": {},
   "outputs": [],
   "source": [
    "# Multiply the daily Returns by 100 to get in percent form Now Create 50 Day and 200 Day moving Averages for the DJIA Prices and return 50 Day 200 Day and Daily Returns into a Dataframe\n",
    "new_df = pd.DataFrame(index=df_close.index[1:])\n",
    "new_df['Close'] = df_close['Close'][1:]\n",
    "new_df['Daily Returns (%)'] = daily_returns\n",
    "new_df['50 Day MA'] = df_close['Close'].rolling(window=50).mean().shift(1)\n",
    "new_df['200 Day MA'] = df_close['Close'].rolling(window=200).mean().shift(1)\n"
   ]
  },
  {
   "cell_type": "markdown",
   "id": "e56b33de-6b09-4b6f-a0b2-c1bc6af190d6",
   "metadata": {},
   "source": [
    "### Step 8 - Using Matplotlib.pyplot Make a Plot having 50 days MA, 200 MA, and Closing Prices all on the same plot. Make sure each line is a different color to differentiate\n",
    "\n",
    "#### Include a title, xlabel, ylabel, & legend\n",
    "\n",
    "#### &nbsp;&nbsp; **Hint: You should use the plt.plot() method twice to graph two seperate Rolling Moving Averages**"
   ]
  },
  {
   "cell_type": "code",
   "execution_count": 9,
   "id": "94898fe3-9011-4bfb-9d40-86577863bd04",
   "metadata": {},
   "outputs": [],
   "source": [
    "# Plot in this Cell\n",
    "plt.figure(figsize=(12,6))\n",
    "plt.plot(new_df['Close'], label='Closing Price', color='blue')\n",
    "plt.plot(new_df['50 Day MA'], label='50 Day MA', color='orange')\n",
    "plt.plot(new_df['200 Day MA'], label='200 Day MA', color='red')\n",
    "plt.title(\"DJIA Closing Price with 50 & 200 Day Moving Averages\")\n",
    "plt.xlabel(\"Date\")\n",
    "plt.ylabel(\"Price (USD)\")\n",
    "plt.legend()\n",
    "plt.show()\n"
   ]
  },
  {
   "cell_type": "markdown",
   "id": "e3c5743d-969d-408a-bc25-1f5ffef4adcb",
   "metadata": {},
   "source": [
    "## Read:\n",
    "\n",
    "### Golden Cross (Bullish Signal): Occurs when the 50-Day Moving Average(Short-Term) crosses above the the 200 day Moving Average(Long-Term). This is an indicator of a potential long-term uptrend. It often suggests increasing bullish momemntun as short-term buying pressure increases often signaling economic recovery, positive corporate earnings, or supportive monetary policy.\n",
    "\n",
    "### Death Cross (Bearish Signal): Occurs when the 50-day Moving Average(Short-Term Trend) crosses below the 200-day Moving Average(Long-Term Trend). This is an indicator of a Potential long-term downtrend. It often suggests bearish sentiment, often due to economic slowdowns, recessions, or financial crise signalling panic selling events and market corrections.\n",
    "\n"
   ]
  },
  {
   "cell_type": "markdown",
   "id": "cc72f89c-9078-4b29-8c1c-bec99aecb253",
   "metadata": {},
   "source": [
    "### Step 9 - Identify 2 Historic Financial Events that are represented by each a Golden Cross & Death Cross. Go into detail descrbing dates, price levels, and Macroeconomic indicators like umemployment rate, GDP, Inflation, & Interest Rates. Answer  should be at least 5 sentences. \n",
    "\n",
    "#### Answer Below using # Comments & conduct your own online Research to answer if needed."
   ]
  },
  {
   "cell_type": "code",
   "execution_count": 10,
   "id": "539c08fd-026a-4591-9433-1b026c7cd625",
   "metadata": {},
   "outputs": [],
   "source": [
    "# Answer here \n",
    "# Example of a Golden Cross:\n",
    "# The Golden Cross occurred in mid-2020 after the COVID-19 crash.\n",
    "# The DJIA's 50-day MA crossed above the 200-day MA, signaling recovery.\n",
    "# Macroeconomic indicators showed improvement: GDP rebounded, unemployment fell, and the Fed kept interest rates low.\n",
    "# Example of a Death Cross:\n",
    "# The Death Cross happened in early 2022 due to fears of inflation and rising interest rates.\n",
    "# The 50-day MA crossed below the 200-day MA, indicating a bearish trend.\n",
    "# The Fed's rate hikes, high inflation (above 7%), and slowing GDP growth contributed to market pessimism.\n",
    "\n"
   ]
  },
  {
   "cell_type": "markdown",
   "id": "980c3c15-8f67-45ac-ae1f-a5c4e5b4a858",
   "metadata": {},
   "source": [
    "## Part 2 : Analyzing & Comparing the S&P 500 ETF Tech Sector(XLK) vs Finance Sector(XLF)"
   ]
  },
  {
   "cell_type": "markdown",
   "id": "5012573b-2687-49b8-aa0a-54b834f76f91",
   "metadata": {},
   "source": [
    "### Step 1 - Use yfinance to import both datasets & prices for XLK and XLF by creating two different Dataframe(df) for each "
   ]
  },
  {
   "cell_type": "code",
   "execution_count": 11,
   "id": "9a64c175-c763-4e42-9be9-2268f42ca5f4",
   "metadata": {},
   "outputs": [],
   "source": [
    "# import data and create dataframes here\n",
    "xlk = yf.Ticker(\"XLK\").history(period=\"1y\")\n",
    "xlf = yf.Ticker(\"XLF\").history(period=\"1y\")\n"
   ]
  },
  {
   "cell_type": "markdown",
   "id": "5d456720-fd3e-4e66-95b8-988e8a60c12c",
   "metadata": {},
   "source": [
    "### Step 2 - Print out the first 5 Trading Days of XLF using the .head() method "
   ]
  },
  {
   "cell_type": "code",
   "execution_count": 12,
   "id": "3c48ffac-67b3-4931-adbd-9acd1b50905d",
   "metadata": {},
   "outputs": [],
   "source": [
    "# print here\n",
    "print(xlk.head())\n"
   ]
  },
  {
   "cell_type": "markdown",
   "id": "638a8cbe-be11-4df2-a110-2cc27aa2f2ea",
   "metadata": {},
   "source": [
    "### Step 3 - Print out the first 5 Trading Days of XLF using the .head() method "
   ]
  },
  {
   "cell_type": "code",
   "execution_count": 13,
   "id": "5a7d683b-f2e1-4d36-ae3f-0b5fd89074d1",
   "metadata": {},
   "outputs": [],
   "source": [
    "# print here\n",
    "print(xlf.head())\n",
    "\n"
   ]
  },
  {
   "cell_type": "markdown",
   "id": "2b2d3f37-b376-4086-be99-b47529c562d4",
   "metadata": {},
   "source": [
    "### Step 4 - Using Matplotlib.pyplt, plot the Closing Prices of each XLK and XLF on a the same Line Plot for Further Analysis\n",
    "\n",
    "#### Include a title, xlabel, ylabel, legend, & grid"
   ]
  },
  {
   "cell_type": "code",
   "execution_count": 14,
   "id": "4eb26160-13ff-45bb-9e08-d8ed44bb6c16",
   "metadata": {},
   "outputs": [],
   "source": [
    "# Insert Plot Here \n",
    "plt.figure(figsize=(12,6))\n",
    "plt.plot(xlk['Close'], label='XLK Closing Prices', color='blue')\n",
    "plt.plot(xlf['Close'], label='XLF Closing Prices', color='green')\n",
    "plt.title(\"Comparison of XLK and XLF Closing Prices\")\n",
    "plt.xlabel(\"Date\")\n",
    "plt.ylabel(\"Closing Price (USD)\")\n",
    "plt.legend()\n",
    "plt.grid()\n",
    "plt.show()"
   ]
  },
  {
   "cell_type": "markdown",
   "id": "34837a91-58e7-4fed-b353-938a24058f65",
   "metadata": {},
   "source": [
    "### Step 5 - How did both Sectors perform during the Dot-com bubble (1999-2002)? What do you think caused both Sector's Price Behavior? Be Specifc with Dates, Company Names, and write at least 3 sentences \n",
    "\n",
    "#### Answer below in # Comments & conduct your own online Research to answer if needed.\n"
   ]
  },
  {
   "cell_type": "code",
   "execution_count": 15,
   "id": "fb52807a-25ad-4f12-a608-ff340726f0a7",
   "metadata": {},
   "outputs": [],
   "source": [
    "# Answer here \n",
    "# During the Dot-com bubble (1999-2002), the technology sector (XLK) experienced a massive surge followed by a sharp collapse.\n",
    "# Many tech stocks, including Cisco, Intel, and Amazon, reached all-time highs before crashing.\n",
    "# The financial sector (XLF), while affected, was relatively more stable but still faced repercussions as the bubble burst and led to a market-wide downturn.\n",
    "\n"
   ]
  },
  {
   "cell_type": "markdown",
   "id": "93d0729b-59f4-4440-89bf-da61d81189f5",
   "metadata": {},
   "source": [
    "### Step 6 - What specific trends have caused the increasing Divergence in XLF and XLK? Be specific and write at least 3 sentences \n",
    "\n",
    "#### Answer below in # Comments & conduct your own online Research to answer if needed."
   ]
  },
  {
   "cell_type": "code",
   "execution_count": 16,
   "id": "e0167f8d-d200-42d4-a9c1-1271ffe3374e",
   "metadata": {},
   "outputs": [],
   "source": [
    "# Answer here \n",
    "# The divergence between XLK and XLF can be attributed to several factors.\n",
    "# First, rapid technological innovation and high growth in the tech sector have driven XLK higher.\n",
    "# Second, the 2008 financial crisis and subsequent regulations slowed the financial sector’s growth, limiting XLF's performance.\n",
    "# Lastly, interest rate fluctuations and monetary policies have influenced financial stocks more significantly than tech stocks, contributing to their divergence.\n",
    "\n"
   ]
  }
 ],
 "metadata": {
  "kernelspec": {
   "display_name": "Python 3 (ipykernel)",
   "language": "python",
   "name": "python3"
  },
  "language_info": {
   "codemirror_mode": {
    "name": "ipython",
    "version": 3
   },
   "file_extension": ".py",
   "mimetype": "text/x-python",
   "name": "python",
   "nbconvert_exporter": "python",
   "pygments_lexer": "ipython3",
   "version": "3.11.4"
  }
 },
 "nbformat": 4,
 "nbformat_minor": 5
}
